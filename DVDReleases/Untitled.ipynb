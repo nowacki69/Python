{
 "cells": [
  {
   "cell_type": "code",
   "execution_count": 8,
   "metadata": {},
   "outputs": [],
   "source": [
    "import re\n",
    "import pandas as pd"
   ]
  },
  {
   "cell_type": "code",
   "execution_count": 20,
   "metadata": {},
   "outputs": [],
   "source": [
    "# Search for movie titles in my movies and remove them from the list\n",
    "movie = [7, 'Total Recall', 7.4, 'R', '1990']\n",
    "movi = 'Total Recall (1990) R.mp4'\n",
    "\n",
    "top_movies = [[7, 'Total Recall', 7.4, 'R', '1990'],\n",
    "              [9, 'helpers', 3.5, 'G', '1995']\n",
    "             ]\n",
    "title = re.sub(', The', '', movie[1])\n",
    "title = re.sub('The ', '', title)\n",
    "title = re.sub('[:.]', '', title)\n",
    "title.strip()\n",
    "\n",
    "result1 = movi.find(title)\n",
    "result2 = movi.find(movie[4])\n",
    "older = str(int(movie[4])-1)\n",
    "result3 = movi.find(older)\n",
    "\n",
    "if result1 > -1 and (result2 > -1 or result3 >-1):\n",
    "    index = top_movies.index(movie)\n",
    "    del top_movies[index]\n",
    "\n",
    "    # Break the line into variables (mainly to get the year)\n",
    "    rank, titl, imdb, rating, yr = movie\n",
    "    # Format the data back into strings to write back to the CSV file\n",
    "    mov = [rank, titl, imdb, rating]\n",
    "\n",
    "    # Open the CSV file by year and get all lines into a list\n",
    "    # with open(yr + '.csv', 'r') as csv_file:\n",
    "    #     reader = csv.reader(csv_file)\n",
    "    #     mov_list = list(reader)\n",
    "    header = [\"Position\", \"Title\", \"IMDB\", \"Rating\"]\n",
    "    df1 = pd.read_csv(str(yr) + '.csv')\n",
    "    mov_list = df1.values.tolist()\n",
    "\n",
    "    # locate the specific movie in the list and remove it\n",
    "    idx = mov_list.index(mov)\n",
    "    mov_list.pop(idx)\n",
    "\n",
    "    # Set the dataframe and save it to a CSV file (by Year)\n",
    "    df1 = pd.DataFrame(mov_list, columns=[\"Position\", \"Title\", \"IMDB\", \"Rating\"])\n",
    "    df1.to_csv(str(yr) + '.csv', index=False, header=True)\n",
    "# /////////////////////////////////////////////////////////////////////////////"
   ]
  },
  {
   "cell_type": "code",
   "execution_count": 21,
   "metadata": {},
   "outputs": [
    {
     "data": {
      "text/plain": [
       "[[1, 'Home Alone', 7.0, 'PG'],\n",
       " [2, 'Ghost', 6.9, 'PG-13'],\n",
       " [3, 'Dances with Wolves', 8.0, 'PG-13'],\n",
       " [4, 'Pretty Woman', 6.7, 'R'],\n",
       " [5, 'Teenage Mutant Ninja Turtles', 6.3, 'PG'],\n",
       " [6, 'The Hunt for Red October', 7.6, 'PG'],\n",
       " [8, 'Die Hard 2', 7.0, 'R'],\n",
       " [9, 'Driving Miss Daisy', 7.5, 'PG'],\n",
       " [10, 'Dick Tracy', 6.0, 'PG'],\n",
       " [11, 'Kindergarten Cop', 5.8, 'PG-13'],\n",
       " [12, 'Back to the Future Part III', 7.2, 'PG'],\n",
       " [13, 'Presumed Innocent', 6.8, 'R'],\n",
       " [14, 'Days of Thunder', 5.5, 'PG-13'],\n",
       " [15, 'Another 48 Hrs.', 5.5, 'R'],\n",
       " [16, '3 Men and a Little Lady', 4.7, 'PG'],\n",
       " [17, 'Bird on a Wire', 5.5, 'PG-13'],\n",
       " [18, 'The Godfather: Part III', 7.6, 'R'],\n",
       " [19, 'Flatliners', 6.4, 'R'],\n",
       " [20, 'Misery', 7.8, 'R'],\n",
       " [21, 'Edward Scissorhands', 8.0, 'PG-13'],\n",
       " [22, 'Problem Child', 4.5, 'PG'],\n",
       " [23, 'Arachnophobia', 6.2, 'PG-13'],\n",
       " [24, 'Awakenings', 7.6, 'PG-13'],\n",
       " [25, \"Look Who's Talking Too\", 4.1, 'PG-13'],\n",
       " [26, 'Hard to Kill', 5.2, 'R'],\n",
       " [27, 'Goodfellas', 8.8, 'R'],\n",
       " [28, 'Marked for Death', 5.3, 'R'],\n",
       " [29, 'RoboCop 2', 5.4, 'R'],\n",
       " [30, 'Young Guns II', 6.0, 'PG-13'],\n",
       " [31, 'Gremlins 2: The New Batch', 6.1, 'PG-13'],\n",
       " [32, 'Rocky V', 4.5, 'PG-13'],\n",
       " [33, 'Joe Versus the Volcano', 5.4, 'PG'],\n",
       " [34, 'Postcards from the Edge', 6.5, 'R'],\n",
       " [35, 'Mermaids', 6.4, 'PG-13'],\n",
       " [36, 'Darkman', 6.3, 'R'],\n",
       " [37, 'Air America', 5.4, 'R'],\n",
       " [38, 'Pacific Heights', 6.2, 'R'],\n",
       " [39, \"Child's Play 2\", 5.2, 'R'],\n",
       " [40, 'Predator 2', 6.0, 'R'],\n",
       " [41, 'The Rescuers Down Under', 6.7, 'G'],\n",
       " [42, 'Internal Affairs', 6.4, 'R'],\n",
       " [43, 'Cadillac Man', 5.4, 'R'],\n",
       " [44, 'Memphis Belle', 6.8, 'PG-13'],\n",
       " [45, 'House Party', 5.8, 'R'],\n",
       " [46, \"Jacob's Ladder\", 7.5, 'R'],\n",
       " [47, 'The Exorcist III', 6.0, 'R'],\n",
       " [48, 'Navy Seals', 5.1, 'R'],\n",
       " [49, 'Ernest Goes to Jail', 4.9, 'PG'],\n",
       " [50, 'Ghost Dad', 4.0, 'PG']]"
      ]
     },
     "execution_count": 21,
     "metadata": {},
     "output_type": "execute_result"
    }
   ],
   "source": [
    "mov_list"
   ]
  },
  {
   "cell_type": "code",
   "execution_count": 19,
   "metadata": {},
   "outputs": [
    {
     "data": {
      "text/plain": [
       "['7', 'Total Recall', '7.4', 'R']"
      ]
     },
     "execution_count": 19,
     "metadata": {},
     "output_type": "execute_result"
    }
   ],
   "source": [
    "mov"
   ]
  }
 ],
 "metadata": {
  "kernelspec": {
   "display_name": "Python 3",
   "language": "python",
   "name": "python3"
  },
  "language_info": {
   "codemirror_mode": {
    "name": "ipython",
    "version": 3
   },
   "file_extension": ".py",
   "mimetype": "text/x-python",
   "name": "python",
   "nbconvert_exporter": "python",
   "pygments_lexer": "ipython3",
   "version": "3.7.1"
  }
 },
 "nbformat": 4,
 "nbformat_minor": 2
}
