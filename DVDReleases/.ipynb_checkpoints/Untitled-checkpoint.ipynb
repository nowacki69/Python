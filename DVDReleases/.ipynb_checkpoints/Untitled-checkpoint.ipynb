{
 "cells": [
  {
   "cell_type": "code",
   "execution_count": 4,
   "metadata": {},
   "outputs": [],
   "source": [
    "import re\n",
    "import pandas\n"
   ]
  },
  {
   "cell_type": "code",
   "execution_count": 11,
   "metadata": {},
   "outputs": [],
   "source": [
    "# Search for movie titles in my movies and remove them from the list\n",
    "movie = [7, 'Total Recall', 7.4, 'R', '1990']\n",
    "\n",
    "title = ['Total Recall (1990) R.mp4',\n",
    "             'Kindergarten Cop (1990) PG-13.mp4'\n",
    "        ]\n",
    "\n",
    "title = re.sub(', The', '', movie[1])\n",
    "title = re.sub('The ', '', title)\n",
    "title = re.sub('[:.]', '', title)\n",
    "title.strip()\n",
    "\n",
    "result1 = movi.find(title)\n",
    "result2 = movi.find(movie[4])\n",
    "older = str(int(movie[4])-1)\n",
    "result3 = movi.find(older)\n",
    "\n",
    "if result1 > -1 and (result2 > -1 or result3 >-1):\n",
    "    index = top_movies.index(movie)\n",
    "    del top_movies[index]\n",
    "\n",
    "    # Break the line into variables (mainly to get the year)\n",
    "    rank, titl, imdb, rating, yr = mov\n",
    "    # Format the data back into strings to write back to the CSV file\n",
    "    mov = [str(rank), titl, str(imdb), rating]\n",
    "\n",
    "    # Open the CSV file by year and get all lines into a list\n",
    "    # with open(yr + '.csv', 'r') as csv_file:\n",
    "    #     reader = csv.reader(csv_file)\n",
    "    #     mov_list = list(reader)\n",
    "    df1 = pd.read_csv(str(yr) + '.csv', header=True, index=False)\n",
    "    mov_list = df1.values.tolist()\n",
    "\n",
    "    # locate the specific movie in the list and remove it\n",
    "    idx = mov_list.index(mov)\n",
    "    mov_list.pop(idx)\n",
    "\n",
    "    # Set the dataframe and save it to a CSV file (by Year)\n",
    "    df1 = pd.DataFrame(mov_list, columns=[\"Position\", \"Title\", \"IMDB\", \"Rating\"])\n",
    "    df1.to_csv(str(yr) + '.csv', index=False, header=True)\n",
    "# /////////////////////////////////////////////////////////////////////////////"
   ]
  },
  {
   "cell_type": "raw",
   "metadata": {},
   "source": [
    "mov"
   ]
  }
 ],
 "metadata": {
  "kernelspec": {
   "display_name": "Python 3",
   "language": "python",
   "name": "python3"
  },
  "language_info": {
   "codemirror_mode": {
    "name": "ipython",
    "version": 3
   },
   "file_extension": ".py",
   "mimetype": "text/x-python",
   "name": "python",
   "nbconvert_exporter": "python",
   "pygments_lexer": "ipython3",
   "version": "3.7.1"
  }
 },
 "nbformat": 4,
 "nbformat_minor": 2
}
