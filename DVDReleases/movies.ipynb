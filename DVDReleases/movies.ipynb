{
 "cells": [
  {
   "cell_type": "code",
   "execution_count": 124,
   "metadata": {},
   "outputs": [],
   "source": [
    "import os, re\n",
    "import pandas as pd\n",
    "import requests\n",
    "\n",
    "from bs4 import BeautifulSoup\n",
    "from datetime import datetime\n",
    "from difflib import get_close_matches\n",
    "\n",
    "# Get current folder path for csv files\n",
    "cwd = os.getcwd()\n",
    "\n",
    "# Get current year\n",
    "now = datetime.now()\n",
    "now.timetuple()\n",
    "current_year = now.year\n",
    "\n",
    "# set starting variables\n",
    "start_year = 1990\n",
    "base_url = \"https://www.dvdsreleasedates.com/top-movies-\"\n",
    "collection = []\n",
    "\n",
    "# *****************************************************************************\n",
    "# Get previous years from storage (csv files), if they exist\n",
    "# if they do not exist, retrieve data and save them\n",
    "\n",
    "for year in range(start_year, current_year + 1, 1):\n",
    "    filename = cwd + \"\\\\\" + str(year) + \".csv\"\n",
    "\n",
    "    # remove the current year's csv file in case anything has been updated.\n",
    "    if year == current_year:\n",
    "        try:\n",
    "            os.remove(filename)\n",
    "        except:\n",
    "            pass\n",
    "\n",
    "    # does the csv file exist for the selected year\n",
    "    exists = os.path.isfile(filename)\n",
    "\n",
    "    if exists:\n",
    "        dfAll = pd.read_csv(filename)\n",
    "    else:\n",
    "        all_movies = []\n",
    "        url = base_url + str(year) + \"/\"\n",
    "        r = requests.get(url)\n",
    "        c = r.content\n",
    "        soup = BeautifulSoup(c, \"html.parser\")\n",
    "\n",
    "        data = soup.find_all(\"td\", {\"class\":\"dvdcell\"})\n",
    "        for item in data:\n",
    "            movie = {}\n",
    "            # movie[\"Chart\"] = str(year)\n",
    "            movie[\"Position\"] = int(list(item)[0])\n",
    "            movie[\"Title\"] = str(list(item)[4].string)\n",
    "\n",
    "            try:\n",
    "                movie[\"IMDB\"] = float(item.find(\"td\", {\"class\":\"imdblink left\"}).find(\"a\").text)\n",
    "            except:\n",
    "                movie[\"IMDB\"] = item.find(\"td\", {\"class\":\"imdblink left\"}).find(\"a\").text\n",
    "\n",
    "            try:\n",
    "                movie[\"Rating\"] = item.find(\"td\", {\"class\":\"imdblink right\"}).text.replace(\"\\xa0\", \"\")\n",
    "            except:\n",
    "                movie[\"Rating\"] = None\n",
    "            all_movies.append(movie)\n",
    "\n",
    "        # Save the data to a CSV file by name of Year\n",
    "        dfAll = pd.DataFrame(all_movies, columns=[\"Position\", \"Title\", \"IMDB\", \"Rating\"])\n",
    "        dfAll.to_csv(str(year) + \".csv\", index=False, header=True)\n",
    "\n",
    "    dfAll['Chart'] = str(year)\n",
    "    collection.append(dfAll.values.tolist())\n",
    "# /////////////////////////////////////////////////////////////////////////////\n"
   ]
  },
  {
   "cell_type": "code",
   "execution_count": 125,
   "metadata": {
    "scrolled": false
   },
   "outputs": [],
   "source": [
    "# *****************************************************************************\n",
    "# Get list of movies I that I have\n",
    "movie_dir = \"E:\\\\Video\\\\_Movies\\\\\"\n",
    "my_movies = []\n",
    "top_movies = []\n",
    "need_movies = []\n",
    "\n",
    "# Create a list of all my movies\n",
    "for dirName, subdirList, fileList in os.walk(movie_dir):\n",
    "    for fname in fileList:\n",
    "        my_movies.append(fname)\n",
    "\n",
    "my_movies.sort()\n",
    "\n",
    "# Create a list of the top movie names\n",
    "for y in collection:    # for every year\n",
    "    for movie in y:     # for every movie\n",
    "        top_movies.append(movie)        \n",
    "# /////////////////////////////////////////////////////////////////////////////\n"
   ]
  },
  {
   "cell_type": "code",
   "execution_count": 127,
   "metadata": {
    "scrolled": true
   },
   "outputs": [],
   "source": [
    "for movie in top_movies:\n",
    "    title = re.sub(', The', '', movie[1])\n",
    "    title = re.sub('The ', '', title)\n",
    "    title = re.sub('[:.]', '', title)\n",
    "    title.strip()\n",
    "\n",
    "    for movi in my_movies:\n",
    "        result1 = movi.find(title)\n",
    "        result2 = movi.find(movie[4])\n",
    "\n",
    "        if result1 > -1 and result2 > -1:\n",
    "            try:\n",
    "                index = top_movies.index(movie)\n",
    "                del top_movies[index]\n",
    "            except:\n",
    "                pass\n",
    "            "
   ]
  },
  {
   "cell_type": "code",
   "execution_count": 128,
   "metadata": {},
   "outputs": [
    {
     "data": {
      "text/plain": [
       "1564"
      ]
     },
     "execution_count": 128,
     "metadata": {},
     "output_type": "execute_result"
    }
   ],
   "source": [
    "len(top_movies)"
   ]
  },
  {
   "cell_type": "code",
   "execution_count": 130,
   "metadata": {},
   "outputs": [],
   "source": [
    "# Sort remaining Top Movies by ranked postion in each year\n",
    "top_movies.sort(key=lambda x: x[0])"
   ]
  },
  {
   "cell_type": "code",
   "execution_count": 133,
   "metadata": {},
   "outputs": [],
   "source": [
    "df = pd.DataFrame(top_movies, columns=['Ranking', 'Title', 'IMDB', 'Rating', 'Year'])\n",
    "df.to_csv(\"MoviesNeeded.csv\", index=None, header=True)"
   ]
  }
 ],
 "metadata": {
  "kernelspec": {
   "display_name": "Python 3",
   "language": "python",
   "name": "python3"
  },
  "language_info": {
   "codemirror_mode": {
    "name": "ipython",
    "version": 3
   },
   "file_extension": ".py",
   "mimetype": "text/x-python",
   "name": "python",
   "nbconvert_exporter": "python",
   "pygments_lexer": "ipython3",
   "version": "3.7.1"
  }
 },
 "nbformat": 4,
 "nbformat_minor": 2
}
